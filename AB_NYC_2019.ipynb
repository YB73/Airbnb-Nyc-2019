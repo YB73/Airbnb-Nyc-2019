{
 "cells": [
  {
   "cell_type": "code",
   "execution_count": 2,
   "id": "fee7b4d5",
   "metadata": {},
   "outputs": [],
   "source": [
    "import pandas as pd\n",
    "import numpy as np\n",
    "import matplotlib.pyplot as plt \n"
   ]
  },
  {
   "cell_type": "code",
   "execution_count": 3,
   "id": "cf25be01",
   "metadata": {},
   "outputs": [],
   "source": [
    "Nyc_data = pd.read_csv(\"D:\\AB_NYC_2019.csv\")"
   ]
  },
  {
   "cell_type": "code",
   "execution_count": 4,
   "id": "00a2a009",
   "metadata": {},
   "outputs": [
    {
     "data": {
      "text/html": [
       "<div>\n",
       "<style scoped>\n",
       "    .dataframe tbody tr th:only-of-type {\n",
       "        vertical-align: middle;\n",
       "    }\n",
       "\n",
       "    .dataframe tbody tr th {\n",
       "        vertical-align: top;\n",
       "    }\n",
       "\n",
       "    .dataframe thead th {\n",
       "        text-align: right;\n",
       "    }\n",
       "</style>\n",
       "<table border=\"1\" class=\"dataframe\">\n",
       "  <thead>\n",
       "    <tr style=\"text-align: right;\">\n",
       "      <th></th>\n",
       "      <th>id</th>\n",
       "      <th>host_id</th>\n",
       "      <th>latitude</th>\n",
       "      <th>longitude</th>\n",
       "      <th>price</th>\n",
       "      <th>minimum_nights</th>\n",
       "      <th>number_of_reviews</th>\n",
       "      <th>reviews_per_month</th>\n",
       "      <th>calculated_host_listings_count</th>\n",
       "      <th>availability_365</th>\n",
       "    </tr>\n",
       "  </thead>\n",
       "  <tbody>\n",
       "    <tr>\n",
       "      <th>count</th>\n",
       "      <td>4.889500e+04</td>\n",
       "      <td>4.889500e+04</td>\n",
       "      <td>48895.000000</td>\n",
       "      <td>48895.000000</td>\n",
       "      <td>48895.000000</td>\n",
       "      <td>48895.000000</td>\n",
       "      <td>48895.000000</td>\n",
       "      <td>38843.000000</td>\n",
       "      <td>48895.000000</td>\n",
       "      <td>48895.000000</td>\n",
       "    </tr>\n",
       "    <tr>\n",
       "      <th>mean</th>\n",
       "      <td>1.901714e+07</td>\n",
       "      <td>6.762001e+07</td>\n",
       "      <td>40.728949</td>\n",
       "      <td>-73.952170</td>\n",
       "      <td>152.720687</td>\n",
       "      <td>7.029962</td>\n",
       "      <td>23.274466</td>\n",
       "      <td>1.373221</td>\n",
       "      <td>7.143982</td>\n",
       "      <td>112.781327</td>\n",
       "    </tr>\n",
       "    <tr>\n",
       "      <th>std</th>\n",
       "      <td>1.098311e+07</td>\n",
       "      <td>7.861097e+07</td>\n",
       "      <td>0.054530</td>\n",
       "      <td>0.046157</td>\n",
       "      <td>240.154170</td>\n",
       "      <td>20.510550</td>\n",
       "      <td>44.550582</td>\n",
       "      <td>1.680442</td>\n",
       "      <td>32.952519</td>\n",
       "      <td>131.622289</td>\n",
       "    </tr>\n",
       "    <tr>\n",
       "      <th>min</th>\n",
       "      <td>2.539000e+03</td>\n",
       "      <td>2.438000e+03</td>\n",
       "      <td>40.499790</td>\n",
       "      <td>-74.244420</td>\n",
       "      <td>0.000000</td>\n",
       "      <td>1.000000</td>\n",
       "      <td>0.000000</td>\n",
       "      <td>0.010000</td>\n",
       "      <td>1.000000</td>\n",
       "      <td>0.000000</td>\n",
       "    </tr>\n",
       "    <tr>\n",
       "      <th>25%</th>\n",
       "      <td>9.471945e+06</td>\n",
       "      <td>7.822033e+06</td>\n",
       "      <td>40.690100</td>\n",
       "      <td>-73.983070</td>\n",
       "      <td>69.000000</td>\n",
       "      <td>1.000000</td>\n",
       "      <td>1.000000</td>\n",
       "      <td>0.190000</td>\n",
       "      <td>1.000000</td>\n",
       "      <td>0.000000</td>\n",
       "    </tr>\n",
       "    <tr>\n",
       "      <th>50%</th>\n",
       "      <td>1.967728e+07</td>\n",
       "      <td>3.079382e+07</td>\n",
       "      <td>40.723070</td>\n",
       "      <td>-73.955680</td>\n",
       "      <td>106.000000</td>\n",
       "      <td>3.000000</td>\n",
       "      <td>5.000000</td>\n",
       "      <td>0.720000</td>\n",
       "      <td>1.000000</td>\n",
       "      <td>45.000000</td>\n",
       "    </tr>\n",
       "    <tr>\n",
       "      <th>75%</th>\n",
       "      <td>2.915218e+07</td>\n",
       "      <td>1.074344e+08</td>\n",
       "      <td>40.763115</td>\n",
       "      <td>-73.936275</td>\n",
       "      <td>175.000000</td>\n",
       "      <td>5.000000</td>\n",
       "      <td>24.000000</td>\n",
       "      <td>2.020000</td>\n",
       "      <td>2.000000</td>\n",
       "      <td>227.000000</td>\n",
       "    </tr>\n",
       "    <tr>\n",
       "      <th>max</th>\n",
       "      <td>3.648724e+07</td>\n",
       "      <td>2.743213e+08</td>\n",
       "      <td>40.913060</td>\n",
       "      <td>-73.712990</td>\n",
       "      <td>10000.000000</td>\n",
       "      <td>1250.000000</td>\n",
       "      <td>629.000000</td>\n",
       "      <td>58.500000</td>\n",
       "      <td>327.000000</td>\n",
       "      <td>365.000000</td>\n",
       "    </tr>\n",
       "  </tbody>\n",
       "</table>\n",
       "</div>"
      ],
      "text/plain": [
       "                 id       host_id      latitude     longitude         price  \\\n",
       "count  4.889500e+04  4.889500e+04  48895.000000  48895.000000  48895.000000   \n",
       "mean   1.901714e+07  6.762001e+07     40.728949    -73.952170    152.720687   \n",
       "std    1.098311e+07  7.861097e+07      0.054530      0.046157    240.154170   \n",
       "min    2.539000e+03  2.438000e+03     40.499790    -74.244420      0.000000   \n",
       "25%    9.471945e+06  7.822033e+06     40.690100    -73.983070     69.000000   \n",
       "50%    1.967728e+07  3.079382e+07     40.723070    -73.955680    106.000000   \n",
       "75%    2.915218e+07  1.074344e+08     40.763115    -73.936275    175.000000   \n",
       "max    3.648724e+07  2.743213e+08     40.913060    -73.712990  10000.000000   \n",
       "\n",
       "       minimum_nights  number_of_reviews  reviews_per_month  \\\n",
       "count    48895.000000       48895.000000       38843.000000   \n",
       "mean         7.029962          23.274466           1.373221   \n",
       "std         20.510550          44.550582           1.680442   \n",
       "min          1.000000           0.000000           0.010000   \n",
       "25%          1.000000           1.000000           0.190000   \n",
       "50%          3.000000           5.000000           0.720000   \n",
       "75%          5.000000          24.000000           2.020000   \n",
       "max       1250.000000         629.000000          58.500000   \n",
       "\n",
       "       calculated_host_listings_count  availability_365  \n",
       "count                    48895.000000      48895.000000  \n",
       "mean                         7.143982        112.781327  \n",
       "std                         32.952519        131.622289  \n",
       "min                          1.000000          0.000000  \n",
       "25%                          1.000000          0.000000  \n",
       "50%                          1.000000         45.000000  \n",
       "75%                          2.000000        227.000000  \n",
       "max                        327.000000        365.000000  "
      ]
     },
     "execution_count": 4,
     "metadata": {},
     "output_type": "execute_result"
    }
   ],
   "source": [
    "Nyc_data.describe()"
   ]
  },
  {
   "cell_type": "code",
   "execution_count": 5,
   "id": "7879fdf4",
   "metadata": {},
   "outputs": [
    {
     "data": {
      "text/plain": [
       "id                                    0\n",
       "name                                 16\n",
       "host_id                               0\n",
       "host_name                            21\n",
       "neighbourhood_group                   0\n",
       "neighbourhood                         0\n",
       "latitude                              0\n",
       "longitude                             0\n",
       "room_type                             0\n",
       "price                                 0\n",
       "minimum_nights                        0\n",
       "number_of_reviews                     0\n",
       "last_review                       10052\n",
       "reviews_per_month                 10052\n",
       "calculated_host_listings_count        0\n",
       "availability_365                      0\n",
       "dtype: int64"
      ]
     },
     "execution_count": 5,
     "metadata": {},
     "output_type": "execute_result"
    }
   ],
   "source": [
    "Nyc_data.isnull().sum()"
   ]
  },
  {
   "cell_type": "code",
   "execution_count": 6,
   "id": "7070664e",
   "metadata": {},
   "outputs": [
    {
     "data": {
      "text/plain": [
       "20141"
      ]
     },
     "execution_count": 6,
     "metadata": {},
     "output_type": "execute_result"
    }
   ],
   "source": [
    "d = Nyc_data.isnull().sum().sum()\n",
    "d"
   ]
  },
  {
   "cell_type": "code",
   "execution_count": 7,
   "id": "304d1f57",
   "metadata": {},
   "outputs": [],
   "source": [
    "import seaborn as sns "
   ]
  },
  {
   "cell_type": "code",
   "execution_count": 8,
   "id": "e5a6383c",
   "metadata": {},
   "outputs": [
    {
     "data": {
      "text/plain": [
       "<AxesSubplot:xlabel='neighbourhood_group', ylabel='price'>"
      ]
     },
     "execution_count": 8,
     "metadata": {},
     "output_type": "execute_result"
    },
    {
     "data": {
      "image/png": "[encoded data removed]",
      "text/plain": [
       "<Figure size 1152x432 with 1 Axes>"
      ]
     },
     "metadata": {
      "needs_background": "light"
     },
     "output_type": "display_data"
    }
   ],
   "source": [
    "plt.figure(figsize=(16, 6))\n",
    "sns.boxplot(x=\"neighbourhood_group\", y=\"price\", data=Nyc_data[Nyc_data['price'] < 1000])"
   ]
  },
  {
   "cell_type": "code",
   "execution_count": 9,
   "id": "5e354315",
   "metadata": {},
   "outputs": [
    {
     "data": {
      "text/plain": [
       "<AxesSubplot:xlabel='room_type', ylabel='minimum_nights'>"
      ]
     },
     "execution_count": 9,
     "metadata": {},
     "output_type": "execute_result"
    },
    {
     "data": {
      "image/png": "[encoded data removed]",
      "text/plain": [
       "<Figure size 1152x432 with 1 Axes>"
      ]
     },
     "metadata": {
      "needs_background": "light"
     },
     "output_type": "display_data"
    }
   ],
   "source": [
    "plt.figure(figsize=(16, 6))\n",
    "sns.boxplot(x=\"room_type\", y=\"minimum_nights\", data=Nyc_data[Nyc_data['minimum_nights'] > 100])"
   ]
  },
  {
   "cell_type": "code",
   "execution_count": 10,
   "id": "d6ca7491",
   "metadata": {},
   "outputs": [
    {
     "data": {
      "text/plain": [
       "<AxesSubplot:xlabel='neighbourhood_group', ylabel='price'>"
      ]
     },
     "execution_count": 10,
     "metadata": {},
     "output_type": "execute_result"
    },
    {
     "data": {
      "image/png": "[encoded data removed]",
      "text/plain": [
       "<Figure size 1152x432 with 1 Axes>"
      ]
     },
     "metadata": {
      "needs_background": "light"
     },
     "output_type": "display_data"
    }
   ],
   "source": [
    "plt.figure(figsize=(16, 6))\n",
    "sns.scatterplot(x=\"neighbourhood_group\", y=\"price\", data=Nyc_data.sort_values('price', ascending=False).head(20))"
   ]
  },
  {
   "cell_type": "markdown",
   "id": "955a9ace",
   "metadata": {},
   "source": [
    "### 3. Find out the neighbourhood’s average price so that I am able to pick an economical location to book my hotel."
   ]
  },
  {
   "cell_type": "code",
   "execution_count": 13,
   "id": "278fa17d",
   "metadata": {},
   "outputs": [
    {
     "name": "stdout",
     "output_type": "stream",
     "text": [
      "The total number of neighbourhoods are :  221\n"
     ]
    }
   ],
   "source": [
    "print(\"The total number of neighbourhoods are : \", len(np.unique(Nyc_data.neighbourhood)))"
   ]
  },
  {
   "cell_type": "code",
   "execution_count": 14,
   "id": "f33eca28",
   "metadata": {},
   "outputs": [],
   "source": [
    "top_prices_by_neighbourhood = Nyc_data.groupby(\"neighbourhood\").agg({\"price\" : \"mean\"}).sort_values(\"price\").reset_index()"
   ]
  },
  {
   "cell_type": "code",
   "execution_count": 15,
   "id": "d5ccfffb",
   "metadata": {},
   "outputs": [
    {
     "data": {
      "text/plain": [
       "<AxesSubplot:xlabel='neighbourhood', ylabel='price'>"
      ]
     },
     "execution_count": 15,
     "metadata": {},
     "output_type": "execute_result"
    },
    {
     "data": {
      "image/png": "[encoded data removed]",
      "text/plain": [
       "<Figure size 1800x720 with 1 Axes>"
      ]
     },
     "metadata": {
      "needs_background": "light"
     },
     "output_type": "display_data"
    }
   ],
   "source": [
    "plt.figure(figsize=(25,10))\n",
    "sns.barplot(x=\"neighbourhood\", y=\"price\", data=top_prices_by_neighbourhood.head(20))"
   ]
  },
  {
   "cell_type": "code",
   "execution_count": 16,
   "id": "6369e022",
   "metadata": {},
   "outputs": [
    {
     "data": {
      "text/html": [
       "<div>\n",
       "<style scoped>\n",
       "    .dataframe tbody tr th:only-of-type {\n",
       "        vertical-align: middle;\n",
       "    }\n",
       "\n",
       "    .dataframe tbody tr th {\n",
       "        vertical-align: top;\n",
       "    }\n",
       "\n",
       "    .dataframe thead th {\n",
       "        text-align: right;\n",
       "    }\n",
       "</style>\n",
       "<table border=\"1\" class=\"dataframe\">\n",
       "  <thead>\n",
       "    <tr style=\"text-align: right;\">\n",
       "      <th></th>\n",
       "      <th>id</th>\n",
       "      <th>name</th>\n",
       "      <th>host_id</th>\n",
       "      <th>host_name</th>\n",
       "      <th>neighbourhood_group</th>\n",
       "      <th>neighbourhood</th>\n",
       "      <th>latitude</th>\n",
       "      <th>longitude</th>\n",
       "      <th>room_type</th>\n",
       "      <th>price</th>\n",
       "      <th>minimum_nights</th>\n",
       "      <th>number_of_reviews</th>\n",
       "      <th>last_review</th>\n",
       "      <th>reviews_per_month</th>\n",
       "      <th>calculated_host_listings_count</th>\n",
       "      <th>availability_365</th>\n",
       "    </tr>\n",
       "  </thead>\n",
       "  <tbody>\n",
       "    <tr>\n",
       "      <th>0</th>\n",
       "      <td>2539</td>\n",
       "      <td>Clean &amp; quiet apt home by the park</td>\n",
       "      <td>2787</td>\n",
       "      <td>John</td>\n",
       "      <td>Brooklyn</td>\n",
       "      <td>Kensington</td>\n",
       "      <td>40.64749</td>\n",
       "      <td>-73.97237</td>\n",
       "      <td>Private room</td>\n",
       "      <td>149</td>\n",
       "      <td>1</td>\n",
       "      <td>9</td>\n",
       "      <td>2018-10-19</td>\n",
       "      <td>0.21</td>\n",
       "      <td>6</td>\n",
       "      <td>365</td>\n",
       "    </tr>\n",
       "    <tr>\n",
       "      <th>1</th>\n",
       "      <td>2595</td>\n",
       "      <td>Skylit Midtown Castle</td>\n",
       "      <td>2845</td>\n",
       "      <td>Jennifer</td>\n",
       "      <td>Manhattan</td>\n",
       "      <td>Midtown</td>\n",
       "      <td>40.75362</td>\n",
       "      <td>-73.98377</td>\n",
       "      <td>Entire home/apt</td>\n",
       "      <td>225</td>\n",
       "      <td>1</td>\n",
       "      <td>45</td>\n",
       "      <td>2019-05-21</td>\n",
       "      <td>0.38</td>\n",
       "      <td>2</td>\n",
       "      <td>355</td>\n",
       "    </tr>\n",
       "    <tr>\n",
       "      <th>2</th>\n",
       "      <td>3647</td>\n",
       "      <td>THE VILLAGE OF HARLEM....NEW YORK !</td>\n",
       "      <td>4632</td>\n",
       "      <td>Elisabeth</td>\n",
       "      <td>Manhattan</td>\n",
       "      <td>Harlem</td>\n",
       "      <td>40.80902</td>\n",
       "      <td>-73.94190</td>\n",
       "      <td>Private room</td>\n",
       "      <td>150</td>\n",
       "      <td>3</td>\n",
       "      <td>0</td>\n",
       "      <td>NaN</td>\n",
       "      <td>NaN</td>\n",
       "      <td>1</td>\n",
       "      <td>365</td>\n",
       "    </tr>\n",
       "    <tr>\n",
       "      <th>3</th>\n",
       "      <td>3831</td>\n",
       "      <td>Cozy Entire Floor of Brownstone</td>\n",
       "      <td>4869</td>\n",
       "      <td>LisaRoxanne</td>\n",
       "      <td>Brooklyn</td>\n",
       "      <td>Clinton Hill</td>\n",
       "      <td>40.68514</td>\n",
       "      <td>-73.95976</td>\n",
       "      <td>Entire home/apt</td>\n",
       "      <td>89</td>\n",
       "      <td>1</td>\n",
       "      <td>270</td>\n",
       "      <td>2019-07-05</td>\n",
       "      <td>4.64</td>\n",
       "      <td>1</td>\n",
       "      <td>194</td>\n",
       "    </tr>\n",
       "    <tr>\n",
       "      <th>4</th>\n",
       "      <td>5022</td>\n",
       "      <td>Entire Apt: Spacious Studio/Loft by central park</td>\n",
       "      <td>7192</td>\n",
       "      <td>Laura</td>\n",
       "      <td>Manhattan</td>\n",
       "      <td>East Harlem</td>\n",
       "      <td>40.79851</td>\n",
       "      <td>-73.94399</td>\n",
       "      <td>Entire home/apt</td>\n",
       "      <td>80</td>\n",
       "      <td>10</td>\n",
       "      <td>9</td>\n",
       "      <td>2018-11-19</td>\n",
       "      <td>0.10</td>\n",
       "      <td>1</td>\n",
       "      <td>0</td>\n",
       "    </tr>\n",
       "  </tbody>\n",
       "</table>\n",
       "</div>"
      ],
      "text/plain": [
       "     id                                              name  host_id  \\\n",
       "0  2539                Clean & quiet apt home by the park     2787   \n",
       "1  2595                             Skylit Midtown Castle     2845   \n",
       "2  3647               THE VILLAGE OF HARLEM....NEW YORK !     4632   \n",
       "3  3831                   Cozy Entire Floor of Brownstone     4869   \n",
       "4  5022  Entire Apt: Spacious Studio/Loft by central park     7192   \n",
       "\n",
       "     host_name neighbourhood_group neighbourhood  latitude  longitude  \\\n",
       "0         John            Brooklyn    Kensington  40.64749  -73.97237   \n",
       "1     Jennifer           Manhattan       Midtown  40.75362  -73.98377   \n",
       "2    Elisabeth           Manhattan        Harlem  40.80902  -73.94190   \n",
       "3  LisaRoxanne            Brooklyn  Clinton Hill  40.68514  -73.95976   \n",
       "4        Laura           Manhattan   East Harlem  40.79851  -73.94399   \n",
       "\n",
       "         room_type  price  minimum_nights  number_of_reviews last_review  \\\n",
       "0     Private room    149               1                  9  2018-10-19   \n",
       "1  Entire home/apt    225               1                 45  2019-05-21   \n",
       "2     Private room    150               3                  0         NaN   \n",
       "3  Entire home/apt     89               1                270  2019-07-05   \n",
       "4  Entire home/apt     80              10                  9  2018-11-19   \n",
       "\n",
       "   reviews_per_month  calculated_host_listings_count  availability_365  \n",
       "0               0.21                               6               365  \n",
       "1               0.38                               2               355  \n",
       "2                NaN                               1               365  \n",
       "3               4.64                               1               194  \n",
       "4               0.10                               1                 0  "
      ]
     },
     "execution_count": 16,
     "metadata": {},
     "output_type": "execute_result"
    }
   ],
   "source": [
    "Nyc_data.head()"
   ]
  },
  {
   "cell_type": "markdown",
   "id": "084c185d",
   "metadata": {},
   "source": [
    "### 4. Find out the 10 most popular hosts based on number_of_reviews"
   ]
  },
  {
   "cell_type": "code",
   "execution_count": 17,
   "id": "143ed26b",
   "metadata": {},
   "outputs": [],
   "source": [
    "df_host_by_popularity = Nyc_data.groupby(\"host_id\").agg({\"number_of_reviews\" : \"sum\"})#.reset.index()"
   ]
  },
  {
   "cell_type": "code",
   "execution_count": 18,
   "id": "5a73e8bf",
   "metadata": {},
   "outputs": [],
   "source": [
    "total_reviews = Nyc_data.number_of_reviews.sum()"
   ]
  },
  {
   "cell_type": "code",
   "execution_count": 19,
   "id": "86e2f04c",
   "metadata": {},
   "outputs": [
    {
     "data": {
      "text/plain": [
       "1138005"
      ]
     },
     "execution_count": 19,
     "metadata": {},
     "output_type": "execute_result"
    }
   ],
   "source": [
    "total_reviews"
   ]
  },
  {
   "cell_type": "code",
   "execution_count": 20,
   "id": "fa467655",
   "metadata": {},
   "outputs": [],
   "source": [
    "df_host_by_popularity['popularity_index'] = df_host_by_popularity['number_of_reviews']. \\\n",
    "                                                apply(lambda x: x/float(total_reviews)*100)"
   ]
  },
  {
   "cell_type": "code",
   "execution_count": 21,
   "id": "ad2c1245",
   "metadata": {},
   "outputs": [
    {
     "data": {
      "text/html": [
       "<div>\n",
       "<style scoped>\n",
       "    .dataframe tbody tr th:only-of-type {\n",
       "        vertical-align: middle;\n",
       "    }\n",
       "\n",
       "    .dataframe tbody tr th {\n",
       "        vertical-align: top;\n",
       "    }\n",
       "\n",
       "    .dataframe thead th {\n",
       "        text-align: right;\n",
       "    }\n",
       "</style>\n",
       "<table border=\"1\" class=\"dataframe\">\n",
       "  <thead>\n",
       "    <tr style=\"text-align: right;\">\n",
       "      <th></th>\n",
       "      <th>number_of_reviews</th>\n",
       "      <th>popularity_index</th>\n",
       "    </tr>\n",
       "    <tr>\n",
       "      <th>host_id</th>\n",
       "      <th></th>\n",
       "      <th></th>\n",
       "    </tr>\n",
       "  </thead>\n",
       "  <tbody>\n",
       "    <tr>\n",
       "      <th>37312959</th>\n",
       "      <td>2273</td>\n",
       "      <td>0.199736</td>\n",
       "    </tr>\n",
       "    <tr>\n",
       "      <th>344035</th>\n",
       "      <td>2205</td>\n",
       "      <td>0.193760</td>\n",
       "    </tr>\n",
       "    <tr>\n",
       "      <th>26432133</th>\n",
       "      <td>2017</td>\n",
       "      <td>0.177240</td>\n",
       "    </tr>\n",
       "    <tr>\n",
       "      <th>35524316</th>\n",
       "      <td>1971</td>\n",
       "      <td>0.173198</td>\n",
       "    </tr>\n",
       "    <tr>\n",
       "      <th>40176101</th>\n",
       "      <td>1818</td>\n",
       "      <td>0.159753</td>\n",
       "    </tr>\n",
       "    <tr>\n",
       "      <th>4734398</th>\n",
       "      <td>1798</td>\n",
       "      <td>0.157996</td>\n",
       "    </tr>\n",
       "    <tr>\n",
       "      <th>16677326</th>\n",
       "      <td>1355</td>\n",
       "      <td>0.119068</td>\n",
       "    </tr>\n",
       "    <tr>\n",
       "      <th>6885157</th>\n",
       "      <td>1346</td>\n",
       "      <td>0.118277</td>\n",
       "    </tr>\n",
       "    <tr>\n",
       "      <th>219517861</th>\n",
       "      <td>1281</td>\n",
       "      <td>0.112565</td>\n",
       "    </tr>\n",
       "    <tr>\n",
       "      <th>23591164</th>\n",
       "      <td>1269</td>\n",
       "      <td>0.111511</td>\n",
       "    </tr>\n",
       "  </tbody>\n",
       "</table>\n",
       "</div>"
      ],
      "text/plain": [
       "           number_of_reviews  popularity_index\n",
       "host_id                                       \n",
       "37312959                2273          0.199736\n",
       "344035                  2205          0.193760\n",
       "26432133                2017          0.177240\n",
       "35524316                1971          0.173198\n",
       "40176101                1818          0.159753\n",
       "4734398                 1798          0.157996\n",
       "16677326                1355          0.119068\n",
       "6885157                 1346          0.118277\n",
       "219517861               1281          0.112565\n",
       "23591164                1269          0.111511"
      ]
     },
     "execution_count": 21,
     "metadata": {},
     "output_type": "execute_result"
    }
   ],
   "source": [
    "df_host_by_popularity.sort_values(\"popularity_index\", ascending = False).head(10)"
   ]
  },
  {
   "cell_type": "code",
   "execution_count": 22,
   "id": "390eecc6",
   "metadata": {},
   "outputs": [],
   "source": [
    "df_host_by_popularity = df_host_by_popularity.reset_index()\n",
    "del df_host_by_popularity['number_of_reviews']"
   ]
  },
  {
   "cell_type": "code",
   "execution_count": 24,
   "id": "a085215d",
   "metadata": {},
   "outputs": [],
   "source": [
    "Nyc_data = pd.merge(Nyc_data, df_host_by_popularity)"
   ]
  },
  {
   "cell_type": "code",
   "execution_count": 25,
   "id": "a49d2d5f",
   "metadata": {},
   "outputs": [
    {
     "data": {
      "text/plain": [
       "(48895, 17)"
      ]
     },
     "execution_count": 25,
     "metadata": {},
     "output_type": "execute_result"
    }
   ],
   "source": [
    "Nyc_data.shape"
   ]
  },
  {
   "cell_type": "markdown",
   "id": "8a005d7a",
   "metadata": {},
   "source": [
    "### 5. Find out the top locations where people tend to stay for a longer duration (more than a week) and sort those by their popularity index"
   ]
  },
  {
   "cell_type": "code",
   "execution_count": 28,
   "id": "d76deb6b",
   "metadata": {},
   "outputs": [
    {
     "data": {
      "text/plain": [
       "40233      Theater District\n",
       "40284    Financial District\n",
       "40165      Theater District\n",
       "40169               Chelsea\n",
       "40171      Theater District\n",
       "40281    Financial District\n",
       "40175      Theater District\n",
       "40176      Theater District\n",
       "40177      Theater District\n",
       "40178      Theater District\n",
       "40179      Theater District\n",
       "40182      Theater District\n",
       "40183      Theater District\n",
       "40197       Upper East Side\n",
       "40198       Upper East Side\n",
       "40220    Financial District\n",
       "40221    Financial District\n",
       "40280    Financial District\n",
       "40223    Financial District\n",
       "40283    Financial District\n",
       "Name: neighbourhood, dtype: object"
      ]
     },
     "execution_count": 28,
     "metadata": {},
     "output_type": "execute_result"
    }
   ],
   "source": [
    "# 5\n",
    "Nyc_data[Nyc_data.minimum_nights > 10 ].sort_values(\"popularity_index\", ascending = False).head(20)['neighbourhood']"
   ]
  },
  {
   "cell_type": "markdown",
   "id": "0022b9ba",
   "metadata": {},
   "source": [
    "### 6. Find out the most popular regions based on the host_id’s popularity_index"
   ]
  },
  {
   "cell_type": "code",
   "execution_count": 30,
   "id": "646ce609",
   "metadata": {},
   "outputs": [],
   "source": [
    "df_popular_regions = Nyc_data.groupby('neighbourhood').agg({'popularity_index' : 'sum'}).reset_index()"
   ]
  },
  {
   "cell_type": "code",
   "execution_count": 31,
   "id": "b8208870",
   "metadata": {},
   "outputs": [
    {
     "data": {
      "text/plain": [
       "<AxesSubplot:xlabel='neighbourhood', ylabel='popularity_index'>"
      ]
     },
     "execution_count": 31,
     "metadata": {},
     "output_type": "execute_result"
    },
    {
     "data": {
      "image/png": "[encoded data removed]",
      "text/plain": [
       "<Figure size 1152x432 with 1 Axes>"
      ]
     },
     "metadata": {
      "needs_background": "light"
     },
     "output_type": "display_data"
    }
   ],
   "source": [
    "plt.figure(figsize=(16, 6))\n",
    "sns.barplot(x='neighbourhood', y='popularity_index', data=df_popular_regions.sort_values('popularity_index', \n",
    "                                                                                        ascending=False).head(10))"
   ]
  },
  {
   "cell_type": "markdown",
   "id": "ad1378c7",
   "metadata": {},
   "source": [
    "### 7. Calculate host_id’s popularity in its neighbourhood"
   ]
  },
  {
   "cell_type": "code",
   "execution_count": 32,
   "id": "1d763569",
   "metadata": {},
   "outputs": [],
   "source": [
    "df_neighbourhood_sum = Nyc_data.groupby('neighbourhood').agg({'number_of_reviews': 'sum'}).reset_index()"
   ]
  },
  {
   "cell_type": "code",
   "execution_count": 33,
   "id": "3ad31644",
   "metadata": {},
   "outputs": [],
   "source": [
    "df_neighbourhood_host_sum = Nyc_data.groupby(['host_id', 'neighbourhood']).agg({'number_of_reviews': 'sum'}).reset_index()"
   ]
  },
  {
   "cell_type": "code",
   "execution_count": 34,
   "id": "0e96bd3e",
   "metadata": {},
   "outputs": [],
   "source": [
    "df_neighbourhood_sum = df_neighbourhood_sum.rename(columns = {'number_of_reviews': 'sum_of_reviews'})"
   ]
  },
  {
   "cell_type": "code",
   "execution_count": 35,
   "id": "a3d08a4a",
   "metadata": {},
   "outputs": [],
   "source": [
    "df_neighbourhood_host_merged = pd.merge(df_neighbourhood_host_sum, df_neighbourhood_sum)"
   ]
  },
  {
   "cell_type": "code",
   "execution_count": 36,
   "id": "3eef0f21",
   "metadata": {},
   "outputs": [
    {
     "data": {
      "text/html": [
       "<div>\n",
       "<style scoped>\n",
       "    .dataframe tbody tr th:only-of-type {\n",
       "        vertical-align: middle;\n",
       "    }\n",
       "\n",
       "    .dataframe tbody tr th {\n",
       "        vertical-align: top;\n",
       "    }\n",
       "\n",
       "    .dataframe thead th {\n",
       "        text-align: right;\n",
       "    }\n",
       "</style>\n",
       "<table border=\"1\" class=\"dataframe\">\n",
       "  <thead>\n",
       "    <tr style=\"text-align: right;\">\n",
       "      <th></th>\n",
       "      <th>host_id</th>\n",
       "      <th>neighbourhood</th>\n",
       "      <th>number_of_reviews</th>\n",
       "      <th>sum_of_reviews</th>\n",
       "    </tr>\n",
       "  </thead>\n",
       "  <tbody>\n",
       "    <tr>\n",
       "      <th>0</th>\n",
       "      <td>2438</td>\n",
       "      <td>Williamsburg</td>\n",
       "      <td>1</td>\n",
       "      <td>85427</td>\n",
       "    </tr>\n",
       "    <tr>\n",
       "      <th>1</th>\n",
       "      <td>10889</td>\n",
       "      <td>Williamsburg</td>\n",
       "      <td>383</td>\n",
       "      <td>85427</td>\n",
       "    </tr>\n",
       "    <tr>\n",
       "      <th>2</th>\n",
       "      <td>15991</td>\n",
       "      <td>Williamsburg</td>\n",
       "      <td>148</td>\n",
       "      <td>85427</td>\n",
       "    </tr>\n",
       "    <tr>\n",
       "      <th>3</th>\n",
       "      <td>19402</td>\n",
       "      <td>Williamsburg</td>\n",
       "      <td>37</td>\n",
       "      <td>85427</td>\n",
       "    </tr>\n",
       "    <tr>\n",
       "      <th>4</th>\n",
       "      <td>21207</td>\n",
       "      <td>Williamsburg</td>\n",
       "      <td>9</td>\n",
       "      <td>85427</td>\n",
       "    </tr>\n",
       "    <tr>\n",
       "      <th>...</th>\n",
       "      <td>...</td>\n",
       "      <td>...</td>\n",
       "      <td>...</td>\n",
       "      <td>...</td>\n",
       "    </tr>\n",
       "    <tr>\n",
       "      <th>38308</th>\n",
       "      <td>115827173</td>\n",
       "      <td>Willowbrook</td>\n",
       "      <td>9</td>\n",
       "      <td>9</td>\n",
       "    </tr>\n",
       "    <tr>\n",
       "      <th>38309</th>\n",
       "      <td>132266502</td>\n",
       "      <td>Westerleigh</td>\n",
       "      <td>1</td>\n",
       "      <td>18</td>\n",
       "    </tr>\n",
       "    <tr>\n",
       "      <th>38310</th>\n",
       "      <td>164164069</td>\n",
       "      <td>Westerleigh</td>\n",
       "      <td>17</td>\n",
       "      <td>18</td>\n",
       "    </tr>\n",
       "    <tr>\n",
       "      <th>38311</th>\n",
       "      <td>200754542</td>\n",
       "      <td>Breezy Point</td>\n",
       "      <td>5</td>\n",
       "      <td>5</td>\n",
       "    </tr>\n",
       "    <tr>\n",
       "      <th>38312</th>\n",
       "      <td>273672846</td>\n",
       "      <td>Breezy Point</td>\n",
       "      <td>0</td>\n",
       "      <td>5</td>\n",
       "    </tr>\n",
       "  </tbody>\n",
       "</table>\n",
       "<p>38313 rows × 4 columns</p>\n",
       "</div>"
      ],
      "text/plain": [
       "         host_id neighbourhood  number_of_reviews  sum_of_reviews\n",
       "0           2438  Williamsburg                  1           85427\n",
       "1          10889  Williamsburg                383           85427\n",
       "2          15991  Williamsburg                148           85427\n",
       "3          19402  Williamsburg                 37           85427\n",
       "4          21207  Williamsburg                  9           85427\n",
       "...          ...           ...                ...             ...\n",
       "38308  115827173   Willowbrook                  9               9\n",
       "38309  132266502   Westerleigh                  1              18\n",
       "38310  164164069   Westerleigh                 17              18\n",
       "38311  200754542  Breezy Point                  5               5\n",
       "38312  273672846  Breezy Point                  0               5\n",
       "\n",
       "[38313 rows x 4 columns]"
      ]
     },
     "execution_count": 36,
     "metadata": {},
     "output_type": "execute_result"
    }
   ],
   "source": [
    "df_neighbourhood_host_merged"
   ]
  },
  {
   "cell_type": "code",
   "execution_count": 37,
   "id": "db5c6b2b",
   "metadata": {},
   "outputs": [],
   "source": [
    "df_neighbourhood_host_merged['host_neighbourhood_popularity'] = df_neighbourhood_host_merged.apply(lambda x: x['number_of_reviews']/float(x['sum_of_reviews'])*100 \\\n",
    "                                       if x['sum_of_reviews'] != 0 else 0, \n",
    "                                                                   axis=1)"
   ]
  },
  {
   "cell_type": "code",
   "execution_count": 38,
   "id": "bb41a58c",
   "metadata": {},
   "outputs": [
    {
     "data": {
      "text/html": [
       "<div>\n",
       "<style scoped>\n",
       "    .dataframe tbody tr th:only-of-type {\n",
       "        vertical-align: middle;\n",
       "    }\n",
       "\n",
       "    .dataframe tbody tr th {\n",
       "        vertical-align: top;\n",
       "    }\n",
       "\n",
       "    .dataframe thead th {\n",
       "        text-align: right;\n",
       "    }\n",
       "</style>\n",
       "<table border=\"1\" class=\"dataframe\">\n",
       "  <thead>\n",
       "    <tr style=\"text-align: right;\">\n",
       "      <th></th>\n",
       "      <th>host_id</th>\n",
       "      <th>neighbourhood</th>\n",
       "      <th>number_of_reviews</th>\n",
       "      <th>sum_of_reviews</th>\n",
       "      <th>host_neighbourhood_popularity</th>\n",
       "    </tr>\n",
       "  </thead>\n",
       "  <tbody>\n",
       "    <tr>\n",
       "      <th>37937</th>\n",
       "      <td>6402171</td>\n",
       "      <td>Rossville</td>\n",
       "      <td>21</td>\n",
       "      <td>21</td>\n",
       "      <td>100.0</td>\n",
       "    </tr>\n",
       "    <tr>\n",
       "      <th>38311</th>\n",
       "      <td>200754542</td>\n",
       "      <td>Breezy Point</td>\n",
       "      <td>5</td>\n",
       "      <td>5</td>\n",
       "      <td>100.0</td>\n",
       "    </tr>\n",
       "    <tr>\n",
       "      <th>35750</th>\n",
       "      <td>310670</td>\n",
       "      <td>Eastchester</td>\n",
       "      <td>157</td>\n",
       "      <td>157</td>\n",
       "      <td>100.0</td>\n",
       "    </tr>\n",
       "    <tr>\n",
       "      <th>38308</th>\n",
       "      <td>115827173</td>\n",
       "      <td>Willowbrook</td>\n",
       "      <td>9</td>\n",
       "      <td>9</td>\n",
       "      <td>100.0</td>\n",
       "    </tr>\n",
       "    <tr>\n",
       "      <th>38274</th>\n",
       "      <td>71312760</td>\n",
       "      <td>Richmondtown</td>\n",
       "      <td>79</td>\n",
       "      <td>79</td>\n",
       "      <td>100.0</td>\n",
       "    </tr>\n",
       "    <tr>\n",
       "      <th>...</th>\n",
       "      <td>...</td>\n",
       "      <td>...</td>\n",
       "      <td>...</td>\n",
       "      <td>...</td>\n",
       "      <td>...</td>\n",
       "    </tr>\n",
       "    <tr>\n",
       "      <th>21767</th>\n",
       "      <td>2063421</td>\n",
       "      <td>Carroll Gardens</td>\n",
       "      <td>0</td>\n",
       "      <td>5897</td>\n",
       "      <td>0.0</td>\n",
       "    </tr>\n",
       "    <tr>\n",
       "      <th>21772</th>\n",
       "      <td>2423401</td>\n",
       "      <td>Carroll Gardens</td>\n",
       "      <td>0</td>\n",
       "      <td>5897</td>\n",
       "      <td>0.0</td>\n",
       "    </tr>\n",
       "    <tr>\n",
       "      <th>21775</th>\n",
       "      <td>2724990</td>\n",
       "      <td>Carroll Gardens</td>\n",
       "      <td>0</td>\n",
       "      <td>5897</td>\n",
       "      <td>0.0</td>\n",
       "    </tr>\n",
       "    <tr>\n",
       "      <th>21788</th>\n",
       "      <td>3827238</td>\n",
       "      <td>Carroll Gardens</td>\n",
       "      <td>0</td>\n",
       "      <td>5897</td>\n",
       "      <td>0.0</td>\n",
       "    </tr>\n",
       "    <tr>\n",
       "      <th>38312</th>\n",
       "      <td>273672846</td>\n",
       "      <td>Breezy Point</td>\n",
       "      <td>0</td>\n",
       "      <td>5</td>\n",
       "      <td>0.0</td>\n",
       "    </tr>\n",
       "  </tbody>\n",
       "</table>\n",
       "<p>38313 rows × 5 columns</p>\n",
       "</div>"
      ],
      "text/plain": [
       "         host_id    neighbourhood  number_of_reviews  sum_of_reviews  \\\n",
       "37937    6402171        Rossville                 21              21   \n",
       "38311  200754542     Breezy Point                  5               5   \n",
       "35750     310670      Eastchester                157             157   \n",
       "38308  115827173      Willowbrook                  9               9   \n",
       "38274   71312760     Richmondtown                 79              79   \n",
       "...          ...              ...                ...             ...   \n",
       "21767    2063421  Carroll Gardens                  0            5897   \n",
       "21772    2423401  Carroll Gardens                  0            5897   \n",
       "21775    2724990  Carroll Gardens                  0            5897   \n",
       "21788    3827238  Carroll Gardens                  0            5897   \n",
       "38312  273672846     Breezy Point                  0               5   \n",
       "\n",
       "       host_neighbourhood_popularity  \n",
       "37937                          100.0  \n",
       "38311                          100.0  \n",
       "35750                          100.0  \n",
       "38308                          100.0  \n",
       "38274                          100.0  \n",
       "...                              ...  \n",
       "21767                            0.0  \n",
       "21772                            0.0  \n",
       "21775                            0.0  \n",
       "21788                            0.0  \n",
       "38312                            0.0  \n",
       "\n",
       "[38313 rows x 5 columns]"
      ]
     },
     "execution_count": 38,
     "metadata": {},
     "output_type": "execute_result"
    }
   ],
   "source": [
    "df_neighbourhood_host_merged.sort_values('host_neighbourhood_popularity', ascending=False)"
   ]
  },
  {
   "cell_type": "code",
   "execution_count": 39,
   "id": "8ebdc304",
   "metadata": {},
   "outputs": [],
   "source": [
    "del df_neighbourhood_host_merged['sum_of_reviews']\n",
    "del df_neighbourhood_host_merged['number_of_reviews']"
   ]
  },
  {
   "cell_type": "code",
   "execution_count": 40,
   "id": "fd25cda4",
   "metadata": {},
   "outputs": [
    {
     "data": {
      "text/html": [
       "<div>\n",
       "<style scoped>\n",
       "    .dataframe tbody tr th:only-of-type {\n",
       "        vertical-align: middle;\n",
       "    }\n",
       "\n",
       "    .dataframe tbody tr th {\n",
       "        vertical-align: top;\n",
       "    }\n",
       "\n",
       "    .dataframe thead th {\n",
       "        text-align: right;\n",
       "    }\n",
       "</style>\n",
       "<table border=\"1\" class=\"dataframe\">\n",
       "  <thead>\n",
       "    <tr style=\"text-align: right;\">\n",
       "      <th></th>\n",
       "      <th>host_id</th>\n",
       "      <th>neighbourhood</th>\n",
       "      <th>host_neighbourhood_popularity</th>\n",
       "    </tr>\n",
       "  </thead>\n",
       "  <tbody>\n",
       "    <tr>\n",
       "      <th>38259</th>\n",
       "      <td>57165692</td>\n",
       "      <td>Baychester</td>\n",
       "      <td>88.709677</td>\n",
       "    </tr>\n",
       "    <tr>\n",
       "      <th>38260</th>\n",
       "      <td>64425305</td>\n",
       "      <td>Baychester</td>\n",
       "      <td>0.967742</td>\n",
       "    </tr>\n",
       "    <tr>\n",
       "      <th>38261</th>\n",
       "      <td>129890157</td>\n",
       "      <td>Baychester</td>\n",
       "      <td>0.000000</td>\n",
       "    </tr>\n",
       "    <tr>\n",
       "      <th>38262</th>\n",
       "      <td>209306758</td>\n",
       "      <td>Baychester</td>\n",
       "      <td>6.774194</td>\n",
       "    </tr>\n",
       "    <tr>\n",
       "      <th>38263</th>\n",
       "      <td>246653349</td>\n",
       "      <td>Baychester</td>\n",
       "      <td>3.548387</td>\n",
       "    </tr>\n",
       "  </tbody>\n",
       "</table>\n",
       "</div>"
      ],
      "text/plain": [
       "         host_id neighbourhood  host_neighbourhood_popularity\n",
       "38259   57165692    Baychester                      88.709677\n",
       "38260   64425305    Baychester                       0.967742\n",
       "38261  129890157    Baychester                       0.000000\n",
       "38262  209306758    Baychester                       6.774194\n",
       "38263  246653349    Baychester                       3.548387"
      ]
     },
     "execution_count": 40,
     "metadata": {},
     "output_type": "execute_result"
    }
   ],
   "source": [
    "df_neighbourhood_host_merged[df_neighbourhood_host_merged['neighbourhood'] == 'Baychester']"
   ]
  },
  {
   "cell_type": "code",
   "execution_count": 42,
   "id": "ac6974ae",
   "metadata": {},
   "outputs": [],
   "source": [
    "Nyc_data = pd.merge(Nyc_data, df_neighbourhood_host_merged)"
   ]
  },
  {
   "cell_type": "code",
   "execution_count": 44,
   "id": "e898e447",
   "metadata": {},
   "outputs": [
    {
     "data": {
      "text/html": [
       "<div>\n",
       "<style scoped>\n",
       "    .dataframe tbody tr th:only-of-type {\n",
       "        vertical-align: middle;\n",
       "    }\n",
       "\n",
       "    .dataframe tbody tr th {\n",
       "        vertical-align: top;\n",
       "    }\n",
       "\n",
       "    .dataframe thead th {\n",
       "        text-align: right;\n",
       "    }\n",
       "</style>\n",
       "<table border=\"1\" class=\"dataframe\">\n",
       "  <thead>\n",
       "    <tr style=\"text-align: right;\">\n",
       "      <th></th>\n",
       "      <th>host_id</th>\n",
       "      <th>host_name</th>\n",
       "      <th>neighbourhood</th>\n",
       "      <th>neighbourhood_group</th>\n",
       "      <th>host_neighbourhood_popularity</th>\n",
       "    </tr>\n",
       "  </thead>\n",
       "  <tbody>\n",
       "    <tr>\n",
       "      <th>347</th>\n",
       "      <td>310670</td>\n",
       "      <td>Vie</td>\n",
       "      <td>Eastchester</td>\n",
       "      <td>Bronx</td>\n",
       "      <td>100.000000</td>\n",
       "    </tr>\n",
       "    <tr>\n",
       "      <th>348</th>\n",
       "      <td>310670</td>\n",
       "      <td>Vie</td>\n",
       "      <td>Eastchester</td>\n",
       "      <td>Bronx</td>\n",
       "      <td>100.000000</td>\n",
       "    </tr>\n",
       "    <tr>\n",
       "      <th>349</th>\n",
       "      <td>310670</td>\n",
       "      <td>Vie</td>\n",
       "      <td>Eastchester</td>\n",
       "      <td>Bronx</td>\n",
       "      <td>100.000000</td>\n",
       "    </tr>\n",
       "    <tr>\n",
       "      <th>350</th>\n",
       "      <td>310670</td>\n",
       "      <td>Vie</td>\n",
       "      <td>Eastchester</td>\n",
       "      <td>Bronx</td>\n",
       "      <td>100.000000</td>\n",
       "    </tr>\n",
       "    <tr>\n",
       "      <th>351</th>\n",
       "      <td>310670</td>\n",
       "      <td>Vie</td>\n",
       "      <td>Eastchester</td>\n",
       "      <td>Bronx</td>\n",
       "      <td>100.000000</td>\n",
       "    </tr>\n",
       "    <tr>\n",
       "      <th>352</th>\n",
       "      <td>310670</td>\n",
       "      <td>Vie</td>\n",
       "      <td>Eastchester</td>\n",
       "      <td>Bronx</td>\n",
       "      <td>100.000000</td>\n",
       "    </tr>\n",
       "    <tr>\n",
       "      <th>353</th>\n",
       "      <td>310670</td>\n",
       "      <td>Vie</td>\n",
       "      <td>Eastchester</td>\n",
       "      <td>Bronx</td>\n",
       "      <td>100.000000</td>\n",
       "    </tr>\n",
       "    <tr>\n",
       "      <th>354</th>\n",
       "      <td>310670</td>\n",
       "      <td>Vie</td>\n",
       "      <td>Eastchester</td>\n",
       "      <td>Bronx</td>\n",
       "      <td>100.000000</td>\n",
       "    </tr>\n",
       "    <tr>\n",
       "      <th>355</th>\n",
       "      <td>310670</td>\n",
       "      <td>Vie</td>\n",
       "      <td>Eastchester</td>\n",
       "      <td>Bronx</td>\n",
       "      <td>100.000000</td>\n",
       "    </tr>\n",
       "    <tr>\n",
       "      <th>356</th>\n",
       "      <td>310670</td>\n",
       "      <td>Vie</td>\n",
       "      <td>Eastchester</td>\n",
       "      <td>Bronx</td>\n",
       "      <td>100.000000</td>\n",
       "    </tr>\n",
       "    <tr>\n",
       "      <th>357</th>\n",
       "      <td>310670</td>\n",
       "      <td>Vie</td>\n",
       "      <td>Eastchester</td>\n",
       "      <td>Bronx</td>\n",
       "      <td>100.000000</td>\n",
       "    </tr>\n",
       "    <tr>\n",
       "      <th>358</th>\n",
       "      <td>310670</td>\n",
       "      <td>Vie</td>\n",
       "      <td>Eastchester</td>\n",
       "      <td>Bronx</td>\n",
       "      <td>100.000000</td>\n",
       "    </tr>\n",
       "    <tr>\n",
       "      <th>359</th>\n",
       "      <td>310670</td>\n",
       "      <td>Vie</td>\n",
       "      <td>Co-op City</td>\n",
       "      <td>Bronx</td>\n",
       "      <td>94.117647</td>\n",
       "    </tr>\n",
       "    <tr>\n",
       "      <th>17865</th>\n",
       "      <td>71312760</td>\n",
       "      <td>Don</td>\n",
       "      <td>Richmondtown</td>\n",
       "      <td>Staten Island</td>\n",
       "      <td>100.000000</td>\n",
       "    </tr>\n",
       "    <tr>\n",
       "      <th>23490</th>\n",
       "      <td>115827173</td>\n",
       "      <td>David</td>\n",
       "      <td>Willowbrook</td>\n",
       "      <td>Staten Island</td>\n",
       "      <td>100.000000</td>\n",
       "    </tr>\n",
       "    <tr>\n",
       "      <th>27220</th>\n",
       "      <td>18996093</td>\n",
       "      <td>Leonard</td>\n",
       "      <td>Little Neck</td>\n",
       "      <td>Queens</td>\n",
       "      <td>94.736842</td>\n",
       "    </tr>\n",
       "    <tr>\n",
       "      <th>27221</th>\n",
       "      <td>18996093</td>\n",
       "      <td>Leonard</td>\n",
       "      <td>Little Neck</td>\n",
       "      <td>Queens</td>\n",
       "      <td>94.736842</td>\n",
       "    </tr>\n",
       "    <tr>\n",
       "      <th>31280</th>\n",
       "      <td>164164069</td>\n",
       "      <td>Marcia</td>\n",
       "      <td>Westerleigh</td>\n",
       "      <td>Staten Island</td>\n",
       "      <td>94.444444</td>\n",
       "    </tr>\n",
       "    <tr>\n",
       "      <th>32887</th>\n",
       "      <td>148130073</td>\n",
       "      <td>Sebastian</td>\n",
       "      <td>Grymes Hill</td>\n",
       "      <td>Staten Island</td>\n",
       "      <td>93.243243</td>\n",
       "    </tr>\n",
       "    <tr>\n",
       "      <th>35278</th>\n",
       "      <td>6402171</td>\n",
       "      <td>Taryn</td>\n",
       "      <td>Rossville</td>\n",
       "      <td>Staten Island</td>\n",
       "      <td>100.000000</td>\n",
       "    </tr>\n",
       "    <tr>\n",
       "      <th>35680</th>\n",
       "      <td>200754542</td>\n",
       "      <td>Kent</td>\n",
       "      <td>Breezy Point</td>\n",
       "      <td>Queens</td>\n",
       "      <td>100.000000</td>\n",
       "    </tr>\n",
       "    <tr>\n",
       "      <th>35681</th>\n",
       "      <td>200754542</td>\n",
       "      <td>Kent</td>\n",
       "      <td>Breezy Point</td>\n",
       "      <td>Queens</td>\n",
       "      <td>100.000000</td>\n",
       "    </tr>\n",
       "  </tbody>\n",
       "</table>\n",
       "</div>"
      ],
      "text/plain": [
       "         host_id  host_name neighbourhood neighbourhood_group  \\\n",
       "347       310670        Vie   Eastchester               Bronx   \n",
       "348       310670        Vie   Eastchester               Bronx   \n",
       "349       310670        Vie   Eastchester               Bronx   \n",
       "350       310670        Vie   Eastchester               Bronx   \n",
       "351       310670        Vie   Eastchester               Bronx   \n",
       "352       310670        Vie   Eastchester               Bronx   \n",
       "353       310670        Vie   Eastchester               Bronx   \n",
       "354       310670        Vie   Eastchester               Bronx   \n",
       "355       310670        Vie   Eastchester               Bronx   \n",
       "356       310670        Vie   Eastchester               Bronx   \n",
       "357       310670        Vie   Eastchester               Bronx   \n",
       "358       310670        Vie   Eastchester               Bronx   \n",
       "359       310670        Vie    Co-op City               Bronx   \n",
       "17865   71312760        Don  Richmondtown       Staten Island   \n",
       "23490  115827173      David   Willowbrook       Staten Island   \n",
       "27220   18996093    Leonard   Little Neck              Queens   \n",
       "27221   18996093    Leonard   Little Neck              Queens   \n",
       "31280  164164069     Marcia   Westerleigh       Staten Island   \n",
       "32887  148130073  Sebastian   Grymes Hill       Staten Island   \n",
       "35278    6402171      Taryn     Rossville       Staten Island   \n",
       "35680  200754542       Kent  Breezy Point              Queens   \n",
       "35681  200754542       Kent  Breezy Point              Queens   \n",
       "\n",
       "       host_neighbourhood_popularity  \n",
       "347                       100.000000  \n",
       "348                       100.000000  \n",
       "349                       100.000000  \n",
       "350                       100.000000  \n",
       "351                       100.000000  \n",
       "352                       100.000000  \n",
       "353                       100.000000  \n",
       "354                       100.000000  \n",
       "355                       100.000000  \n",
       "356                       100.000000  \n",
       "357                       100.000000  \n",
       "358                       100.000000  \n",
       "359                        94.117647  \n",
       "17865                     100.000000  \n",
       "23490                     100.000000  \n",
       "27220                      94.736842  \n",
       "27221                      94.736842  \n",
       "31280                      94.444444  \n",
       "32887                      93.243243  \n",
       "35278                     100.000000  \n",
       "35680                     100.000000  \n",
       "35681                     100.000000  "
      ]
     },
     "execution_count": 44,
     "metadata": {},
     "output_type": "execute_result"
    }
   ],
   "source": [
    "Nyc_data[Nyc_data.host_neighbourhood_popularity > 90] \\\n",
    "[['host_id', 'host_name', 'neighbourhood', 'neighbourhood_group', 'host_neighbourhood_popularity']]"
   ]
  },
  {
   "cell_type": "markdown",
   "id": "43843323",
   "metadata": {},
   "source": [
    "### 8. Which neighbourhood is generating maximum and minimum revenues in terms of private rooms and entire homes?"
   ]
  },
  {
   "cell_type": "code",
   "execution_count": 45,
   "id": "e942eccb",
   "metadata": {},
   "outputs": [],
   "source": [
    "df_neighbourhood_room_type = Nyc_data[Nyc_data['room_type'] != 'Shared room'].groupby(['neighbourhood', 'room_type']).agg({'price' : 'sum'})"
   ]
  },
  {
   "cell_type": "code",
   "execution_count": 46,
   "id": "5220e1ab",
   "metadata": {},
   "outputs": [
    {
     "data": {
      "text/html": [
       "<div>\n",
       "<style scoped>\n",
       "    .dataframe tbody tr th:only-of-type {\n",
       "        vertical-align: middle;\n",
       "    }\n",
       "\n",
       "    .dataframe tbody tr th {\n",
       "        vertical-align: top;\n",
       "    }\n",
       "\n",
       "    .dataframe thead th {\n",
       "        text-align: right;\n",
       "    }\n",
       "</style>\n",
       "<table border=\"1\" class=\"dataframe\">\n",
       "  <thead>\n",
       "    <tr style=\"text-align: right;\">\n",
       "      <th></th>\n",
       "      <th></th>\n",
       "      <th>price</th>\n",
       "    </tr>\n",
       "    <tr>\n",
       "      <th>neighbourhood</th>\n",
       "      <th>room_type</th>\n",
       "      <th></th>\n",
       "    </tr>\n",
       "  </thead>\n",
       "  <tbody>\n",
       "    <tr>\n",
       "      <th rowspan=\"2\" valign=\"top\">Allerton</th>\n",
       "      <th>Entire home/apt</th>\n",
       "      <td>1969</td>\n",
       "    </tr>\n",
       "    <tr>\n",
       "      <th>Private room</th>\n",
       "      <td>1710</td>\n",
       "    </tr>\n",
       "    <tr>\n",
       "      <th rowspan=\"2\" valign=\"top\">Arden Heights</th>\n",
       "      <th>Entire home/apt</th>\n",
       "      <td>228</td>\n",
       "    </tr>\n",
       "    <tr>\n",
       "      <th>Private room</th>\n",
       "      <td>41</td>\n",
       "    </tr>\n",
       "    <tr>\n",
       "      <th>Arrochar</th>\n",
       "      <th>Entire home/apt</th>\n",
       "      <td>1897</td>\n",
       "    </tr>\n",
       "    <tr>\n",
       "      <th>...</th>\n",
       "      <th>...</th>\n",
       "      <td>...</td>\n",
       "    </tr>\n",
       "    <tr>\n",
       "      <th rowspan=\"2\" valign=\"top\">Woodlawn</th>\n",
       "      <th>Entire home/apt</th>\n",
       "      <td>262</td>\n",
       "    </tr>\n",
       "    <tr>\n",
       "      <th>Private room</th>\n",
       "      <td>329</td>\n",
       "    </tr>\n",
       "    <tr>\n",
       "      <th>Woodrow</th>\n",
       "      <th>Entire home/apt</th>\n",
       "      <td>700</td>\n",
       "    </tr>\n",
       "    <tr>\n",
       "      <th rowspan=\"2\" valign=\"top\">Woodside</th>\n",
       "      <th>Entire home/apt</th>\n",
       "      <td>9369</td>\n",
       "    </tr>\n",
       "    <tr>\n",
       "      <th>Private room</th>\n",
       "      <td>10564</td>\n",
       "    </tr>\n",
       "  </tbody>\n",
       "</table>\n",
       "<p>425 rows × 1 columns</p>\n",
       "</div>"
      ],
      "text/plain": [
       "                               price\n",
       "neighbourhood room_type             \n",
       "Allerton      Entire home/apt   1969\n",
       "              Private room      1710\n",
       "Arden Heights Entire home/apt    228\n",
       "              Private room        41\n",
       "Arrochar      Entire home/apt   1897\n",
       "...                              ...\n",
       "Woodlawn      Entire home/apt    262\n",
       "              Private room       329\n",
       "Woodrow       Entire home/apt    700\n",
       "Woodside      Entire home/apt   9369\n",
       "              Private room     10564\n",
       "\n",
       "[425 rows x 1 columns]"
      ]
     },
     "execution_count": 46,
     "metadata": {},
     "output_type": "execute_result"
    }
   ],
   "source": [
    "df_neighbourhood_room_type"
   ]
  },
  {
   "cell_type": "code",
   "execution_count": 47,
   "id": "59d0770e",
   "metadata": {},
   "outputs": [],
   "source": [
    "df_neighbourhood_room_type = pd.pivot_table(df_neighbourhood_room_type, values='price', index=['neighbourhood'], columns=['room_type'])"
   ]
  },
  {
   "cell_type": "code",
   "execution_count": 48,
   "id": "3a656812",
   "metadata": {},
   "outputs": [
    {
     "data": {
      "text/html": [
       "<div>\n",
       "<style scoped>\n",
       "    .dataframe tbody tr th:only-of-type {\n",
       "        vertical-align: middle;\n",
       "    }\n",
       "\n",
       "    .dataframe tbody tr th {\n",
       "        vertical-align: top;\n",
       "    }\n",
       "\n",
       "    .dataframe thead th {\n",
       "        text-align: right;\n",
       "    }\n",
       "</style>\n",
       "<table border=\"1\" class=\"dataframe\">\n",
       "  <thead>\n",
       "    <tr style=\"text-align: right;\">\n",
       "      <th>room_type</th>\n",
       "      <th>Entire home/apt</th>\n",
       "      <th>Private room</th>\n",
       "    </tr>\n",
       "    <tr>\n",
       "      <th>neighbourhood</th>\n",
       "      <th></th>\n",
       "      <th></th>\n",
       "    </tr>\n",
       "  </thead>\n",
       "  <tbody>\n",
       "    <tr>\n",
       "      <th>Williamsburg</th>\n",
       "      <td>389724.0</td>\n",
       "      <td>171265.0</td>\n",
       "    </tr>\n",
       "  </tbody>\n",
       "</table>\n",
       "</div>"
      ],
      "text/plain": [
       "room_type      Entire home/apt  Private room\n",
       "neighbourhood                               \n",
       "Williamsburg          389724.0      171265.0"
      ]
     },
     "execution_count": 48,
     "metadata": {},
     "output_type": "execute_result"
    }
   ],
   "source": [
    "df_neighbourhood_room_type.sort_values('Private room', ascending = False).head(1)"
   ]
  },
  {
   "cell_type": "code",
   "execution_count": 49,
   "id": "4c65e835",
   "metadata": {},
   "outputs": [
    {
     "data": {
      "text/html": [
       "<div>\n",
       "<style scoped>\n",
       "    .dataframe tbody tr th:only-of-type {\n",
       "        vertical-align: middle;\n",
       "    }\n",
       "\n",
       "    .dataframe tbody tr th {\n",
       "        vertical-align: top;\n",
       "    }\n",
       "\n",
       "    .dataframe thead th {\n",
       "        text-align: right;\n",
       "    }\n",
       "</style>\n",
       "<table border=\"1\" class=\"dataframe\">\n",
       "  <thead>\n",
       "    <tr style=\"text-align: right;\">\n",
       "      <th>room_type</th>\n",
       "      <th>Entire home/apt</th>\n",
       "      <th>Private room</th>\n",
       "    </tr>\n",
       "    <tr>\n",
       "      <th>neighbourhood</th>\n",
       "      <th></th>\n",
       "      <th></th>\n",
       "    </tr>\n",
       "  </thead>\n",
       "  <tbody>\n",
       "    <tr>\n",
       "      <th>Williamsburg</th>\n",
       "      <td>389724.0</td>\n",
       "      <td>171265.0</td>\n",
       "    </tr>\n",
       "  </tbody>\n",
       "</table>\n",
       "</div>"
      ],
      "text/plain": [
       "room_type      Entire home/apt  Private room\n",
       "neighbourhood                               \n",
       "Williamsburg          389724.0      171265.0"
      ]
     },
     "execution_count": 49,
     "metadata": {},
     "output_type": "execute_result"
    }
   ],
   "source": [
    "df_neighbourhood_room_type.sort_values('Entire home/apt', ascending = False).head(1)"
   ]
  },
  {
   "cell_type": "code",
   "execution_count": 50,
   "id": "cddc8add",
   "metadata": {},
   "outputs": [
    {
     "data": {
      "text/html": [
       "<div>\n",
       "<style scoped>\n",
       "    .dataframe tbody tr th:only-of-type {\n",
       "        vertical-align: middle;\n",
       "    }\n",
       "\n",
       "    .dataframe tbody tr th {\n",
       "        vertical-align: top;\n",
       "    }\n",
       "\n",
       "    .dataframe thead th {\n",
       "        text-align: right;\n",
       "    }\n",
       "</style>\n",
       "<table border=\"1\" class=\"dataframe\">\n",
       "  <thead>\n",
       "    <tr style=\"text-align: right;\">\n",
       "      <th>room_type</th>\n",
       "      <th>Entire home/apt</th>\n",
       "      <th>Private room</th>\n",
       "    </tr>\n",
       "    <tr>\n",
       "      <th>neighbourhood</th>\n",
       "      <th></th>\n",
       "      <th></th>\n",
       "    </tr>\n",
       "  </thead>\n",
       "  <tbody>\n",
       "    <tr>\n",
       "      <th>Graniteville</th>\n",
       "      <td>186.0</td>\n",
       "      <td>20.0</td>\n",
       "    </tr>\n",
       "  </tbody>\n",
       "</table>\n",
       "</div>"
      ],
      "text/plain": [
       "room_type      Entire home/apt  Private room\n",
       "neighbourhood                               \n",
       "Graniteville             186.0          20.0"
      ]
     },
     "execution_count": 50,
     "metadata": {},
     "output_type": "execute_result"
    }
   ],
   "source": [
    "df_neighbourhood_room_type.sort_values('Private room', ascending = True).head(1)"
   ]
  },
  {
   "cell_type": "code",
   "execution_count": 51,
   "id": "36d989e3",
   "metadata": {},
   "outputs": [
    {
     "data": {
      "text/html": [
       "<div>\n",
       "<style scoped>\n",
       "    .dataframe tbody tr th:only-of-type {\n",
       "        vertical-align: middle;\n",
       "    }\n",
       "\n",
       "    .dataframe tbody tr th {\n",
       "        vertical-align: top;\n",
       "    }\n",
       "\n",
       "    .dataframe thead th {\n",
       "        text-align: right;\n",
       "    }\n",
       "</style>\n",
       "<table border=\"1\" class=\"dataframe\">\n",
       "  <thead>\n",
       "    <tr style=\"text-align: right;\">\n",
       "      <th>room_type</th>\n",
       "      <th>Entire home/apt</th>\n",
       "      <th>Private room</th>\n",
       "    </tr>\n",
       "    <tr>\n",
       "      <th>neighbourhood</th>\n",
       "      <th></th>\n",
       "      <th></th>\n",
       "    </tr>\n",
       "  </thead>\n",
       "  <tbody>\n",
       "    <tr>\n",
       "      <th>New Dorp</th>\n",
       "      <td>57.0</td>\n",
       "      <td>NaN</td>\n",
       "    </tr>\n",
       "  </tbody>\n",
       "</table>\n",
       "</div>"
      ],
      "text/plain": [
       "room_type      Entire home/apt  Private room\n",
       "neighbourhood                               \n",
       "New Dorp                  57.0           NaN"
      ]
     },
     "execution_count": 51,
     "metadata": {},
     "output_type": "execute_result"
    }
   ],
   "source": [
    "df_neighbourhood_room_type.sort_values('Entire home/apt', ascending = True).head(1)"
   ]
  },
  {
   "cell_type": "code",
   "execution_count": null,
   "id": "1ab34162",
   "metadata": {},
   "outputs": [],
   "source": []
  }
 ],
 "metadata": {
  "kernelspec": {
   "display_name": "Python 3 (ipykernel)",
   "language": "python",
   "name": "python3"
  },
  "language_info": {
   "codemirror_mode": {
    "name": "ipython",
    "version": 3
   },
   "file_extension": ".py",
   "mimetype": "text/x-python",
   "name": "python",
   "nbconvert_exporter": "python",
   "pygments_lexer": "ipython3",
   "version": "3.9.6"
  }
 },
 "nbformat": 4,
 "nbformat_minor": 5
}
